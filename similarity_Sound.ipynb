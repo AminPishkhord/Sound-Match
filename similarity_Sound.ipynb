{
  "nbformat": 4,
  "nbformat_minor": 0,
  "metadata": {
    "colab": {
      "provenance": []
    },
    "kernelspec": {
      "name": "python3",
      "display_name": "Python 3"
    },
    "language_info": {
      "name": "python"
    }
  },
  "cells": [
    {
      "cell_type": "markdown",
      "source": [
        "\n",
        "\n",
        "> **Install Prerequirements libraries**\n",
        "\n"
      ],
      "metadata": {
        "id": "qch7bN9eC999"
      }
    },
    {
      "cell_type": "code",
      "source": [
        "!git clone https://github.com/AminPishkhord/Sound-Match.git"
      ],
      "metadata": {
        "colab": {
          "base_uri": "https://localhost:8080/"
        },
        "id": "i_WvfVuOOuTZ",
        "outputId": "50ab66ed-f5b0-444a-f9ad-18d4315d2982"
      },
      "execution_count": 1,
      "outputs": [
        {
          "output_type": "stream",
          "name": "stdout",
          "text": [
            "Cloning into 'Sound-Match'...\n",
            "remote: Enumerating objects: 56, done.\u001b[K\n",
            "remote: Counting objects: 100% (56/56), done.\u001b[K\n",
            "remote: Compressing objects: 100% (47/47), done.\u001b[K\n",
            "remote: Total 56 (delta 19), reused 0 (delta 0), pack-reused 0 (from 0)\u001b[K\n",
            "Receiving objects: 100% (56/56), 283.50 KiB | 1.15 MiB/s, done.\n",
            "Resolving deltas: 100% (19/19), done.\n"
          ]
        }
      ]
    },
    {
      "cell_type": "code",
      "source": [
        "%cd /content/Sound-Match"
      ],
      "metadata": {
        "colab": {
          "base_uri": "https://localhost:8080/"
        },
        "id": "cgrdz8r3FUDp",
        "outputId": "2ed961d8-2f33-47bd-dd93-fdff94e8232a"
      },
      "execution_count": 2,
      "outputs": [
        {
          "output_type": "stream",
          "name": "stdout",
          "text": [
            "/content/Sound-Match\n"
          ]
        }
      ]
    },
    {
      "cell_type": "code",
      "execution_count": null,
      "metadata": {
        "id": "apyN4XRPCum5"
      },
      "outputs": [],
      "source": [
        "!pip install -r requirements.txt"
      ]
    },
    {
      "cell_type": "markdown",
      "source": [
        "**Import Libraries**"
      ],
      "metadata": {
        "id": "WXLJAyUJEk2v"
      }
    },
    {
      "cell_type": "code",
      "source": [
        "import os\n",
        "from functions import create_audio_collection, insert_audio_data, search_similar_audio"
      ],
      "metadata": {
        "colab": {
          "base_uri": "https://localhost:8080/"
        },
        "id": "pASb4Ea3Eqf1",
        "outputId": "1b3be1da-0941-4163-b4a6-53bbd4b8c386"
      },
      "execution_count": 5,
      "outputs": [
        {
          "output_type": "stream",
          "name": "stderr",
          "text": [
            "DEBUG:pymilvus.milvus_client.milvus_client:Created new connection using: 11d05c2995ff42fd99363126e3e49724\n"
          ]
        }
      ]
    },
    {
      "cell_type": "markdown",
      "source": [
        "**Create the collection and insert data**"
      ],
      "metadata": {
        "id": "UoYRX5L8R5VL"
      }
    },
    {
      "cell_type": "code",
      "source": [
        "\n",
        "reference_dir = os.listdir(os.path.join(os.getcwd(), 'Data/Reference'))\n",
        "create_audio_collection()\n",
        "audio_files = [os.path.join(os.path.join(os.getcwd(), 'Data/Reference'),audio) for audio in reference_dir if audio[-3:] == 'wav']\n",
        "print(audio_files)\n",
        "insert_audio_data(audio_files)"
      ],
      "metadata": {
        "id": "X8XXUGg1H0CQ"
      },
      "execution_count": null,
      "outputs": []
    },
    {
      "cell_type": "markdown",
      "source": [
        "**Search Audio**"
      ],
      "metadata": {
        "id": "SpXfDuzgR_0R"
      }
    },
    {
      "cell_type": "code",
      "source": [
        "search_similar_audio(\"/content/Sound-Match/Data/Audio3_1.wav\")"
      ],
      "metadata": {
        "id": "9nv8lpZFFuWO"
      },
      "execution_count": null,
      "outputs": []
    }
  ]
}